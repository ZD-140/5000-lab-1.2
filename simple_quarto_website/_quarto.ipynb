{
 "cells": [
  {
   "cell_type": "markdown",
   "metadata": {},
   "source": [
    "project:\n",
    "  type: website\n",
    "\n",
    "website:\n",
    "  title: \"simple_quarto_website\"\n",
    "  navbar:\n",
    "    left:\n",
    "      - href: index.qmd\n",
    "        text: Home\n",
    "      - about.qmd\n",
    "\n",
    "format:\n",
    "  html:\n",
    "    theme: cosmo\n",
    "    toc: true\n"
   ]
  }
 ],
 "metadata": {
  "kernelspec": {
   "display_name": "Python 3 (ipykernel)",
   "language": "python",
   "name": "python3"
  },
  "language_info": {
   "codemirror_mode": {
    "name": "ipython",
    "version": 3
   },
   "file_extension": ".py",
   "mimetype": "text/x-python",
   "name": "python",
   "nbconvert_exporter": "python",
   "pygments_lexer": "ipython3",
   "version": "3.11.3"
  }
 },
 "nbformat": 4,
 "nbformat_minor": 4
}
